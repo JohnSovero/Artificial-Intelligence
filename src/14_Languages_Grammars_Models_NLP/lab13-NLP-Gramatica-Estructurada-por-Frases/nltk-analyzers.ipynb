{
 "cells": [
  {
   "attachments": {
    "python-nltk2.png": {
     "image/png": "[encoded data removed]"
    }
   },
   "cell_type": "markdown",
   "metadata": {},
   "source": [
    "![python-nltk2.png](attachment:python-nltk2.png)"
   ]
  },
  {
   "attachments": {
    "UPC-WS7A.png": {
     "image/png": "[encoded data removed]"
    }
   },
   "cell_type": "markdown",
   "metadata": {},
   "source": [
    "![UPC-WS7A.png](attachment:UPC-WS7A.png)"
   ]
  },
  {
   "cell_type": "markdown",
   "metadata": {},
   "source": [
    "## NLP - Creación de Gramáticas con NLTK"
   ]
  },
  {
   "cell_type": "code",
   "execution_count": 55,
   "metadata": {
    "Collapsed": "false",
    "id": "Nr5_Vluw8rH_"
   },
   "outputs": [],
   "source": [
    "# install the requirements\n",
    "#!pip install nltk\n",
    "#!python -m nltk.downloader book"
   ]
  },
  {
   "cell_type": "markdown",
   "metadata": {
    "Collapsed": "false",
    "id": "-goA6wl48rIC"
   },
   "source": [
    "# Resumen de NLTK: Análisis sintáctico\n",
    "\n",
    "Este resumen se corresponde con el capítulo 8 del NLTK Book [Analyzing Sentence Structure](http://www.nltk.org/book/ch08.html). La lectura del capítulo es muy recomendable.\n",
    "\n",
    "\n",
    "En este resumen vamos a repasar cómo crear gramáticas con NLTK y cómo crear herramientas que nos permitan analizar sintácticamente oraciones sencillas.\n",
    "\n",
    "Para empezar, necesitamos importar el módulo `nltk` que nos da acceso a todas las funcionalidades:"
   ]
  },
  {
   "cell_type": "code",
   "execution_count": 56,
   "metadata": {
    "Collapsed": "false",
    "id": "IjzlQqtT8rID",
    "jupyter": {
     "outputs_hidden": true
    }
   },
   "outputs": [],
   "source": [
    "import nltk"
   ]
  },
  {
   "cell_type": "markdown",
   "metadata": {
    "Collapsed": "false",
    "id": "j880OopP8rIE"
   },
   "source": [
    "## Gramáticas Independientes del Contexto (CFG)\n",
    "\n",
    "**Noam Chmosky** definió una [jerarquía de lenguajes y gramáticas](http://es.wikipedia.org/wiki/Jerarqu%C3%ADa_de_Chomsky) que se utiliza habitualmente en Lingüística e Informática para clasificar lenguajes y gramáticas formales. Cuando queremos modelar fenómenos lingüísticos de las lenguas naturales, el tipo de gramática más adeacuado es el conocido como Tipo 2 o [Gramáticas Independientes del Contexto](http://es.wikipedia.org/wiki/Gram%C3%A1tica_libre_de_contexto) o **Context-Free Grammars (CFG)** en inglés.\n",
    "\n",
    "Vamos a definir una gramática simplemente como un conjunto de reglas de reescritura o transformación. Sin entrar en muchos detalles sobre las restricciones que tienen que cumplir las reglas de las gramáticas de Tipo 2, es importante que tengamos en cuenta lo siguiente:\n",
    "\n",
    "- Las gramáticas formales manejan dos tipos de alfabetos.\n",
    "  1. Los **símbolos no terminales** son los componentes intermedios que utilizamos en las reglas. Todo símbolo no terminal tiene que ser definido como una secuencia de otros símbolos. En nuestro caso, los no terminales van a ser las categorías sintácticas. \n",
    "  2. Los **símbolos terminales** son los componentes finales reconocidos por la gramática. En nuestro caso, los terminales van a ser **las palabras de las oraciones que queremos analizar sintácticamente**.\n",
    "- Todas las reglas de una gramática formal tienen la forma `Símbolo1 -> Símbolo2, Símbolo3... SímboloN` y se leen como *el `Símbolo1` se define/está formado/se reescribe como una secuencia formada por `Símbolo2`, `Símbolo3`, etc.*\n",
    "- En las gramáticas independientes del contexto, la parte situada a la izquierda de la flecha `->` es siempre un único símbolo no terminal.\n",
    "\n",
    "## Gramáticas Generativas en NLTK\n",
    "\n",
    "Pues bien, para definir nuestras gramáticas en NLTK podemos escribirlas en un fichero aparte o como una cadena de texto siguiendo el formalismo de las **gramaticas generativas de Chomsky**. Vamos a definir una sencilla gramática capaz de reconocer la famosa frase de los hermanos Marx: *I shot an elephant in my pajamas*, y la vamos a guardar como una cadena de texto en la variable `g1`."
   ]
  },
  {
   "cell_type": "code",
   "execution_count": 57,
   "metadata": {
    "Collapsed": "false",
    "id": "Klh6jx8c8rIF",
    "jupyter": {
     "outputs_hidden": true
    }
   },
   "outputs": [],
   "source": [
    "g1 = \"\"\"\n",
    "S -> NP VP\n",
    "NP -> Det N | Det N PP | 'I'\n",
    "VP -> V NP | VP PP\n",
    "PP -> P NP\n",
    "Det -> 'an' | 'my'\n",
    "N -> 'elephant' | 'pajamas'\n",
    "V -> 'shot'\n",
    "P -> 'in'\n",
    "\"\"\""
   ]
  },
  {
   "cell_type": "markdown",
   "metadata": {
    "Collapsed": "false",
    "id": "dvvbqVVM8rIF"
   },
   "source": [
    "Fíjate cómo hemos definido nuestra gramática:\n",
    "\n",
    "- Hemos encerrado todo entre triples comillas dobles. Recuerda que esta sintaxis de Python permite crear cadenas que contengan retornos de carro y ocupen más de una línea de longitud.\n",
    "- Para los no terminales utilizamos las convenciones habituales para las estructuras sintácticas y las categorías de palabras y los escribimos en mayúsculas. Las etiquetas son autoexplicativas, aunque estén en inglés.\n",
    "- Los terminales van escritos entre comillas simples.\n",
    "- Cuando un terminal se puede definir de más de una forma, marcamos la disyunción con la barra vertical **`|`**. \n",
    "- Tenemos reglas que se interpretan de la siguiente manera: *una oración se define como una sintagma nominal y un sintagma verbal*; *un sintagma nominal se define como un determinante y un nombre, o un determinante, un nombre y un sintagma preposicional, o la palabra I*, etc.\n",
    "\n",
    "A partir de nuestra gramática en una cadena de texto, necesitamos crear un analizador que podamos utilizar posterioremente. Para ello, es imprescindible parsearla antes con el método `nltk.CFG.fromstring()`."
   ]
  },
  {
   "cell_type": "code",
   "execution_count": 58,
   "metadata": {
    "Collapsed": "false",
    "id": "FsMIiBCb8rIG",
    "jupyter": {
     "outputs_hidden": true
    }
   },
   "outputs": [],
   "source": [
    "grammar1 = nltk.CFG.fromstring(g1)"
   ]
  },
  {
   "cell_type": "markdown",
   "metadata": {
    "Collapsed": "false",
    "id": "4TgDsIQE8rIH"
   },
   "source": [
    "Con el objeto `grammar1` ya creado, creamos el analizador con el método `nltk.ChatParser`."
   ]
  },
  {
   "cell_type": "code",
   "execution_count": 59,
   "metadata": {
    "Collapsed": "false",
    "id": "pD3JxyVK8rIH",
    "jupyter": {
     "outputs_hidden": true
    }
   },
   "outputs": [],
   "source": [
    "analyzer = nltk.ChartParser(grammar1)"
   ]
  },
  {
   "cell_type": "markdown",
   "metadata": {
    "Collapsed": "false",
    "id": "ofiScjp68rII"
   },
   "source": [
    "Una vez creado nuestro analizador ya lo podemos utilizar. Tenemos a nuestro alcance el método `.parse` para analizar sintácticamente cualquier oración que se especifique como una cadena de palabras. Nuestra gramática es bastante limitada, pero podemos utilizarla para analizar la oración *I shot an elephant in my pajamas*. Si imprimimos el resultado del método, obtenemos el árbol sintáctico."
   ]
  },
  {
   "cell_type": "code",
   "execution_count": 60,
   "metadata": {
    "Collapsed": "false",
    "id": "yKyi3f758rIJ"
   },
   "outputs": [
    {
     "name": "stdout",
     "output_type": "stream",
     "text": [
      "(S\n",
      "  (NP I)\n",
      "  (VP\n",
      "    (VP (V shot) (NP (Det an) (N elephant)))\n",
      "    (PP (P in) (NP (Det my) (N pajamas)))))\n",
      "(S\n",
      "  (NP I)\n",
      "  (VP\n",
      "    (V shot)\n",
      "    (NP (Det an) (N elephant) (PP (P in) (NP (Det my) (N pajamas))))))\n"
     ]
    }
   ],
   "source": [
    "oracion = \"I shot an elephant in my pajamas\".split()\n",
    "# guardamos todos los posibles análisis sintácticos en trees\n",
    "trees = analyzer.parse(oracion)\n",
    "for tree in trees:\n",
    "    print(tree)"
   ]
  },
  {
   "cell_type": "markdown",
   "metadata": {
    "Collapsed": "false",
    "id": "f2OokPOw8rIJ"
   },
   "source": [
    "Por si no te has dado cuenta, la oración *I shot an elephant in my pajamas* es ambigua en inglés: se trata del típico ejemplo de *PP attachment* (saber exactamente a qué nodo está modificando un sintagma preposicional). Existe una doble interpretación para el sintagma preposicional *in my pajamas*: En el momento del disparo, ¿quién llevaba puesto el pijama? ¿El elefante o yo? Pues bien, nuestra gramática recoge esta ambigüedad y sería capaz de analizarla de dos maneras diferentes, tal y como se muestra en la celda anterior. \n",
    "\n",
    "En el caso de que nos interese solo generar uno de los posibles análisis, podemos utilizar el método `parse_one()`, como se muestra a continuación."
   ]
  },
  {
   "cell_type": "code",
   "execution_count": 61,
   "metadata": {
    "Collapsed": "false",
    "id": "NRqf-zXn8rIJ",
    "jupyter": {
     "outputs_hidden": true
    }
   },
   "outputs": [
    {
     "name": "stdout",
     "output_type": "stream",
     "text": [
      "(S\n",
      "  (NP I)\n",
      "  (VP\n",
      "    (VP (V shot) (NP (Det an) (N elephant)))\n",
      "    (PP (P in) (NP (Det my) (N pajamas)))))\n"
     ]
    }
   ],
   "source": [
    "print(analyzer.parse_one(oracion))"
   ]
  },
  {
   "cell_type": "markdown",
   "metadata": {
    "Collapsed": "false",
    "id": "vHdtbPwd8rIK"
   },
   "source": [
    "Recuerda que para imprimir el árbol sintáctico hay que iterar (con un bucle `for`, por ejemplo) sobre el objeto que devuelve el método `parse()` y utilizar la función `print`."
   ]
  },
  {
   "cell_type": "code",
   "execution_count": 62,
   "metadata": {
    "Collapsed": "false",
    "id": "JMdikWHn8rIK",
    "jupyter": {
     "outputs_hidden": true
    }
   },
   "outputs": [
    {
     "name": "stdout",
     "output_type": "stream",
     "text": [
      "<generator object Chart.parses at 0x000001E811EA3740>\n"
     ]
    }
   ],
   "source": [
    "print(analyzer.parse(oracion))"
   ]
  },
  {
   "cell_type": "markdown",
   "metadata": {},
   "source": [
    "Si queremos generalizar y obtener una lista con la salida de nuestra oracion en formato de árbol, definiremos la funcion **parse** la que deberá recibir la oracion y su gramatica."
   ]
  },
  {
   "cell_type": "code",
   "execution_count": 63,
   "metadata": {},
   "outputs": [],
   "source": [
    "def parse(sent, gramatica):\n",
    "    #Devuelve la salida en formato nltk.Tree.Tree\n",
    "    a = []  \n",
    "    parser = nltk.ChartParser(gramatica)\n",
    "    for tree in parser.parse(sent):\n",
    "        a.append(tree)\n",
    "    return(a[0]) "
   ]
  },
  {
   "cell_type": "markdown",
   "metadata": {},
   "source": [
    "Obtenemos la salida del arbol estructurado utilizando nuestra funcion **parse(oracion, gramatica)** previamente definida:"
   ]
  },
  {
   "cell_type": "code",
   "execution_count": 64,
   "metadata": {},
   "outputs": [
    {
     "name": "stdout",
     "output_type": "stream",
     "text": [
      "(S\n",
      "  (NP I)\n",
      "  (VP\n",
      "    (VP (V shot) (NP (Det an) (N elephant)))\n",
      "    (PP (P in) (NP (Det my) (N pajamas)))))\n"
     ]
    }
   ],
   "source": [
    "#Da la salida como árbol estructurado \n",
    "print(parse(oracion,grammar1))"
   ]
  },
  {
   "cell_type": "markdown",
   "metadata": {},
   "source": [
    "Visualizamos el diagrama de árbol en la ventana de tkinter."
   ]
  },
  {
   "cell_type": "code",
   "execution_count": 65,
   "metadata": {},
   "outputs": [],
   "source": [
    "#Visualiza un diagrama de árbol en la ventana de tkinter\n",
    "parse(oracion,grammar1).draw()"
   ]
  },
  {
   "cell_type": "markdown",
   "metadata": {
    "Collapsed": "false",
    "id": "PDzPKkGx8rIK"
   },
   "source": [
    "A continuación modifico ligeramente mi gramática `g1` para incluir una nueva categoría gramatical `PRO` y añadir algo de volcabulario nuevo. Compara ambos ejemplos:"
   ]
  },
  {
   "cell_type": "code",
   "execution_count": 66,
   "metadata": {
    "Collapsed": "false",
    "id": "G47akNbL8rIK",
    "jupyter": {
     "outputs_hidden": true
    }
   },
   "outputs": [
    {
     "name": "stdout",
     "output_type": "stream",
     "text": [
      "(S\n",
      "  (NP (PRO I))\n",
      "  (VP\n",
      "    (VP (V shot) (NP (Det an) (N elephant)))\n",
      "    (PP (P in) (NP (Det my) (N pajamas)))))\n",
      "(S\n",
      "  (NP (PRO I))\n",
      "  (VP\n",
      "    (V shot)\n",
      "    (NP (Det an) (N elephant) (PP (P in) (NP (Det my) (N pajamas))))))\n",
      "\n",
      " ------------------------------- \n",
      "\n",
      "(S (NP (PRO you)) (VP (V shot) (NP (Det my) (N elephant))))\n"
     ]
    }
   ],
   "source": [
    "g1v2 = \"\"\"\n",
    "S -> NP VP\n",
    "NP -> Det N | Det N PP | PRO\n",
    "VP -> V NP | VP PP\n",
    "PP -> P NP\n",
    "Det -> 'an' | 'my'\n",
    "PRO -> 'I' | 'you'\n",
    "N -> 'elephant' | 'pajamas'\n",
    "V -> 'shot'\n",
    "P -> 'in'\n",
    "\"\"\"\n",
    "\n",
    "grammar1v2 = nltk.CFG.fromstring(g1v2)\n",
    "analyzer1v2 = nltk.ChartParser(grammar1v2)\n",
    "\n",
    "# itero sobre la estructura que devuelve parse()\n",
    "for tree in analyzer1v2.parse(oracion):\n",
    "    print(tree)\n",
    "\n",
    "print(\"\\n\", \"-------------------------------\", \"\\n\")\n",
    "for tree in analyzer1v2.parse(\"you shot my elephant\".split()):\n",
    "    print(tree)"
   ]
  },
  {
   "cell_type": "markdown",
   "metadata": {
    "Collapsed": "false",
    "id": "6UB2zjPh8rIL"
   },
   "source": [
    "### NOTA IMPORTANTE sobre errores y el comportamiento de `parse()`\n",
    "\n",
    "Cuando un analizador reconoce todo el vocabulario de una oración de entrada pero es incapaz de analizarla, el método `parse()` no da error pero devuelve un objeto vacío. En este caso, la oración es agramatical según nuestra gramática.\n"
   ]
  },
  {
   "cell_type": "code",
   "execution_count": 67,
   "metadata": {
    "Collapsed": "false",
    "id": "iIFpQHEK8rIL",
    "jupyter": {
     "outputs_hidden": true
    }
   },
   "outputs": [],
   "source": [
    "for tree in analyzer.parse(\"shot an pajamas elephant my I\".split()):\n",
    "    print(\"El análisis sintáctico es el siguiente\")\n",
    "    print(tree)"
   ]
  },
  {
   "cell_type": "markdown",
   "metadata": {},
   "source": [
    "Utilizando nuestra función **parse**, si da error (indice de lista fuera de rango):"
   ]
  },
  {
   "cell_type": "code",
   "execution_count": 68,
   "metadata": {},
   "outputs": [
    {
     "ename": "IndexError",
     "evalue": "list index out of range",
     "output_type": "error",
     "traceback": [
      "\u001b[1;31m---------------------------------------------------------------------------\u001b[0m",
      "\u001b[1;31mIndexError\u001b[0m                                Traceback (most recent call last)",
      "\u001b[1;32m~\\AppData\\Local\\Temp/ipykernel_5932/3925043394.py\u001b[0m in \u001b[0;36m<module>\u001b[1;34m\u001b[0m\n\u001b[0;32m      1\u001b[0m \u001b[1;31m#Da la salida como árbol estructurado\u001b[0m\u001b[1;33m\u001b[0m\u001b[1;33m\u001b[0m\u001b[1;33m\u001b[0m\u001b[0m\n\u001b[0;32m      2\u001b[0m \u001b[0moracion2\u001b[0m \u001b[1;33m=\u001b[0m \u001b[1;34m\"shot an pajamas elephant my I\"\u001b[0m\u001b[1;33m.\u001b[0m\u001b[0msplit\u001b[0m\u001b[1;33m(\u001b[0m\u001b[1;33m)\u001b[0m\u001b[1;33m\u001b[0m\u001b[1;33m\u001b[0m\u001b[0m\n\u001b[1;32m----> 3\u001b[1;33m \u001b[0mprint\u001b[0m\u001b[1;33m(\u001b[0m\u001b[0mparse\u001b[0m\u001b[1;33m(\u001b[0m\u001b[0moracion2\u001b[0m\u001b[1;33m,\u001b[0m\u001b[0mgrammar1v2\u001b[0m\u001b[1;33m)\u001b[0m\u001b[1;33m)\u001b[0m\u001b[1;33m\u001b[0m\u001b[1;33m\u001b[0m\u001b[0m\n\u001b[0m",
      "\u001b[1;32m~\\AppData\\Local\\Temp/ipykernel_5932/2847607593.py\u001b[0m in \u001b[0;36mparse\u001b[1;34m(sent, gramatica)\u001b[0m\n\u001b[0;32m      5\u001b[0m     \u001b[1;32mfor\u001b[0m \u001b[0mtree\u001b[0m \u001b[1;32min\u001b[0m \u001b[0mparser\u001b[0m\u001b[1;33m.\u001b[0m\u001b[0mparse\u001b[0m\u001b[1;33m(\u001b[0m\u001b[0msent\u001b[0m\u001b[1;33m)\u001b[0m\u001b[1;33m:\u001b[0m\u001b[1;33m\u001b[0m\u001b[1;33m\u001b[0m\u001b[0m\n\u001b[0;32m      6\u001b[0m         \u001b[0ma\u001b[0m\u001b[1;33m.\u001b[0m\u001b[0mappend\u001b[0m\u001b[1;33m(\u001b[0m\u001b[0mtree\u001b[0m\u001b[1;33m)\u001b[0m\u001b[1;33m\u001b[0m\u001b[1;33m\u001b[0m\u001b[0m\n\u001b[1;32m----> 7\u001b[1;33m     \u001b[1;32mreturn\u001b[0m\u001b[1;33m(\u001b[0m\u001b[0ma\u001b[0m\u001b[1;33m[\u001b[0m\u001b[1;36m0\u001b[0m\u001b[1;33m]\u001b[0m\u001b[1;33m)\u001b[0m\u001b[1;33m\u001b[0m\u001b[1;33m\u001b[0m\u001b[0m\n\u001b[0m",
      "\u001b[1;31mIndexError\u001b[0m: list index out of range"
     ]
    }
   ],
   "source": [
    "#Da la salida como árbol estructurado \n",
    "oracion2 = \"shot an pajamas elephant my I\".split()\n",
    "print(parse(oracion2,grammar1v2))"
   ]
  },
  {
   "cell_type": "markdown",
   "metadata": {
    "Collapsed": "false",
    "id": "sqglL9t18rIL"
   },
   "source": [
    "Sin embargo, cuando el analizador no reconoce todo el vocabulario (porque utilizamos una palabra no definida dentro del léxico), el método `parse()` falla y muestra un mensaje de error de tipo `ValueError` como el siguiente. Fíjate solo en la última línea:"
   ]
  },
  {
   "cell_type": "code",
   "execution_count": null,
   "metadata": {
    "Collapsed": "false",
    "id": "G6wRTrJ18rIL",
    "jupyter": {
     "outputs_hidden": true
    }
   },
   "outputs": [],
   "source": [
    "for tree in analyzer.parse(\"our time is running out\".split()):\n",
    "    print(\"El análisis sintáctico es el siguiente\")\n",
    "    print(tree)"
   ]
  },
  {
   "cell_type": "markdown",
   "metadata": {},
   "source": [
    "Utilizando nuestra función **parse(oracion, gramatica)**, obtenemos el mismo error:"
   ]
  },
  {
   "cell_type": "code",
   "execution_count": null,
   "metadata": {},
   "outputs": [],
   "source": [
    "#Da la salida como árbol estructurado \n",
    "oracion3 = \"our time is running out\".split()\n",
    "print(parse(oracion3,grammar1v2))"
   ]
  },
  {
   "cell_type": "markdown",
   "metadata": {
    "Collapsed": "false",
    "id": "vKkxVC_O8rIM"
   },
   "source": [
    "Tenlo en cuenta a la hora de detectar errores en tu código. \n",
    "\n",
    "\n",
    "## Gramáticas en español\n",
    "\n",
    "Visto un primer ejemplo de CFG, vamos a cambiar de lengua y crear un analizador para oraciones sencillas en español. El procedimiento es el mismo, definimos nuestra gramática en **formato de Chomsky** en un fichero aparte o en una cadena de texto, la parseamos con el método `nltk.CFG.fromstring()` y creamos un analizador con el método `nltk.ChartParser()`:"
   ]
  },
  {
   "cell_type": "code",
   "execution_count": null,
   "metadata": {
    "Collapsed": "false",
    "id": "okldZq2O8rIM",
    "jupyter": {
     "outputs_hidden": true
    }
   },
   "outputs": [],
   "source": [
    "g2 = \"\"\"\n",
    "O -> SN SV\n",
    "SN -> Det N | Det N Adj | Det Adj N | NProp | SN SP\n",
    "SV -> V | V SN | V SP | V SN SP\n",
    "SP -> Prep SN\n",
    "Det -> 'el' | 'la' | 'un' | 'una' \n",
    "N -> 'niño' | 'niña' | 'manzana' | 'pera' | 'cuchillo'\n",
    "NProp -> 'Juan' | 'Ana' | 'Perico' \n",
    "Adj -> 'bonito' | 'pequeña' | 'verde'\n",
    "V -> 'come' | 'salta' | 'pela' | 'persigue'\n",
    "Prep -> 'de' | 'con' | 'desde' | 'a'\n",
    "\"\"\"\n",
    "\n",
    "grammar2 = nltk.CFG.fromstring(g2)\n",
    "analizador2 = nltk.ChartParser(grammar2)"
   ]
  },
  {
   "cell_type": "markdown",
   "metadata": {
    "Collapsed": "false",
    "id": "mLBCIFin8rIM"
   },
   "source": [
    "Vamos a probar si es capaz de analizar distintas oraciones es español. Para hacerlo más divertido, vamos a guardar varias oraciones separadas por un intro (simbolizado por el metacarácter `\\n`) en una lista de cadenas llamda `oraciones`. Iteramos sobre esas oraciones, las imprimimos, después las rompemos en listas de palabras (con el método `.split()`) e imprimimos el resultado de analizarlas con nuestro analizador.\n"
   ]
  },
  {
   "cell_type": "code",
   "execution_count": null,
   "metadata": {
    "Collapsed": "false",
    "id": "lAwI1tix8rIM",
    "jupyter": {
     "outputs_hidden": true
    }
   },
   "outputs": [],
   "source": [
    "oraciones = \"\"\"Ana salta\n",
    "la niña pela una manzana verde con el cuchillo\n",
    "Juan come un cuchillo bonito desde el niño\n",
    "un manzana bonito salta el cuchillo desde el niño verde\n",
    "el cuchillo verde persigue a la pequeña manzana de Ana\n",
    "el cuchillo verde persigue a Ana\"\"\".split(\n",
    "    \"\\n\"\n",
    ")\n",
    "\n",
    "for oracion in oraciones:\n",
    "    print(oracion)\n",
    "    for tree in analizador2.parse(oracion.split()):\n",
    "        print(tree, \"\\n\")"
   ]
  },
  {
   "cell_type": "markdown",
   "metadata": {},
   "source": [
    "Ahora probemos esta misma gramatica y oracion con nuestra funcion parse():"
   ]
  },
  {
   "cell_type": "code",
   "execution_count": null,
   "metadata": {},
   "outputs": [],
   "source": [
    "#Muestra la salida como árbol estructurado \n",
    "for oracion in oraciones:\n",
    "    print(oracion)\n",
    "    for tree in parse(oracion.split(),grammar2):\n",
    "        print(tree, \"\\n\")"
   ]
  },
  {
   "cell_type": "code",
   "execution_count": null,
   "metadata": {},
   "outputs": [],
   "source": [
    "#Visualiza un diagrama de árbol en la ventana de tkinter\n",
    "for oracion in oraciones:\n",
    "    print(oracion)\n",
    "    parse(oracion.split(),grammar2).draw()"
   ]
  },
  {
   "cell_type": "markdown",
   "metadata": {
    "Collapsed": "false",
    "id": "5Q_9Faly8rIN"
   },
   "source": [
    "Vamos a aumentar la cobertura de nuestra gramática de modo que sea capaz de reconocer y analizar oraciones coordinadas. Para ello, modificamos la regla en la que definimos la oración añadiendo una definición recursiva que defina oración como la secuencia de una oración (`O`) seguida de una conjunción (`Conj`) y de otra oración (`O`). Por último añadimos también algo de léxico nuevo: un par de conjunciones."
   ]
  },
  {
   "cell_type": "code",
   "execution_count": null,
   "metadata": {
    "Collapsed": "false",
    "id": "9JM6AXkm8rIN",
    "jupyter": {
     "outputs_hidden": true
    }
   },
   "outputs": [],
   "source": [
    "g3 = \"\"\"\n",
    "O -> SN SV | O Conj O\n",
    "SN -> Det N | Det N Adj | Det Adj N | NProp | SN SP\n",
    "SV -> V | V SN | V SP | V SN SP\n",
    "SP -> Prep SN\n",
    "Det -> 'el' | 'la' | 'un' | 'una' \n",
    "N -> 'niño' | 'niña' | 'manzana' | 'pera' | 'cuchillo'\n",
    "NProp -> 'Juan' | 'Ana' | 'Perico' \n",
    "Adj -> 'bonito' | 'pequeña' | 'verde'\n",
    "V -> 'come' | 'salta' | 'pela' | 'persigue'\n",
    "Prep -> 'de' | 'con' | 'desde' | 'a'\n",
    "Conj -> 'y' | 'pero'\n",
    "\"\"\"\n",
    "\n",
    "# Ahora fijate cómo creamos en analizador en un solo paso\n",
    "# compáralo con los ejemplos anteriores\n",
    "analizador3 = nltk.ChartParser(nltk.CFG.fromstring(g3))"
   ]
  },
  {
   "cell_type": "code",
   "execution_count": null,
   "metadata": {
    "Collapsed": "false",
    "id": "t8uSf2WD8rIN",
    "jupyter": {
     "outputs_hidden": true
    }
   },
   "outputs": [],
   "source": [
    "for tree in analizador3.parse(\n",
    "    \"\"\"la manzana salta y el niño come pero el cuchillo \n",
    "verde persigue a la pequeña manzana de Ana\"\"\".split()\n",
    "):\n",
    "    print(tree)"
   ]
  },
  {
   "cell_type": "markdown",
   "metadata": {
    "Collapsed": "false",
    "id": "HNBRISRm8rIN"
   },
   "source": [
    "Recuerda que una gramática no es un programa: es una simple descripción que permite establecer qué estructuras sintácticas están bien formadas (la oraciones gramaticales) y cuáles no (las oraciones agramaticales). Cuando una oración es reconocida por una gramática (y en consecuencia, está bien formada), el analizador puede representar la estructura en forma de árbol.\n",
    "\n",
    "NLTK proporciona acceso a distintos tipo de analizadores (árboles de dependencias, gramáticas probabilísticas, etc), aunque nosotros solo hemos utilizado el más sencillo de ellos: `nltk.ChartParser()`. Estos analizadores sí son programitas que permiten leer una gramática y analizar las oraciones que proporcionemos como entrada del método `parse()`.\n",
    "\n",
    "## Otro ejemplo\n",
    "\n",
    "En clase improvisamos un poco y proponemos el siguiente ejemplo de gramática. Vamos a ir complicándola de manera incremental. Comencemos con unas cuantas oraciones de ejemplo. "
   ]
  },
  {
   "cell_type": "code",
   "execution_count": null,
   "metadata": {
    "Collapsed": "false",
    "id": "m9pFwbXT8rIP",
    "jupyter": {
     "outputs_hidden": true
    }
   },
   "outputs": [],
   "source": [
    "# ojo, son sencillas, pero contienen oraciones impersonales, verbos copulativos, sujetos elípticos\n",
    "oraciones = \"\"\"mañana es viernes\n",
    "hoy es jueves\n",
    "tenéis sueño\n",
    "hace frío\n",
    "Pepe hace sueño\"\"\".split(\n",
    "    \"\\n\"\n",
    ")"
   ]
  },
  {
   "cell_type": "code",
   "execution_count": null,
   "metadata": {
    "Collapsed": "false",
    "id": "rryurWfz8rIP",
    "jupyter": {
     "outputs_hidden": true
    }
   },
   "outputs": [],
   "source": [
    "# escribe tu gramática en esta celda\n",
    "g4 = \"\"\"\n",
    "\"\"\"\n",
    "\n",
    "analyzer4 = nltk.ChartParser(nltk.CFG.fromtring(g4))"
   ]
  },
  {
   "cell_type": "code",
   "execution_count": null,
   "metadata": {
    "Collapsed": "false",
    "id": "aJYxJO4K8rIQ",
    "jupyter": {
     "outputs_hidden": true
    }
   },
   "outputs": [],
   "source": [
    "# ¿qué tal funciona?\n",
    "for oracion in oraciones:\n",
    "    print(oracion)\n",
    "    for tree in analyzer4.parse(oracion.split()):\n",
    "        print(tree, \"\\n\")"
   ]
  },
  {
   "cell_type": "markdown",
   "metadata": {
    "Collapsed": "false",
    "id": "E8rqTbFH8rIQ"
   },
   "source": [
    "¿Podemos extender `g4` para que reconozca oraciones subordinadas introducidas con *verbos de lengua* o *de pensamiento*. Me refiero a oraciones del tipo: *Pepe cree que mañana es viernes*, *María dice que Pepe cree que mañana es viernes*, etc.\n",
    "\n",
    "Aumenta tu vocabulario añadiendo tantos terminales como te haga falta."
   ]
  },
  {
   "cell_type": "code",
   "execution_count": null,
   "metadata": {
    "Collapsed": "false",
    "id": "fkgHDFMR8rIQ"
   },
   "outputs": [],
   "source": [
    "oraciones = \"\"\"Pepe cree que mañana es viernes\n",
    "María dice que Pepe cree que mañana es viernes\"\"\".split()\n",
    "\n",
    "# escribe la extensión de tu gramática en esta celda\n",
    "g5 = \"\"\"\n",
    "\"\"\"\n",
    "\n",
    "analyzer5 = nltk.ChartParser(nltk.CFG.fromstring(g5))\n",
    "\n",
    "# ¿qué tal funciona?\n",
    "for oracion in oraciones:\n",
    "    print(oracion)\n",
    "    for tree in analyzer5.parse(oracion.split()):\n",
    "        print(tree, \"\\n\")"
   ]
  }
 ],
 "metadata": {
  "colab": {
   "name": "Copy of nltk-analyzers.ipynb",
   "provenance": [
    {
     "file_id": "https://github.com/vitojph/kschool-nlp-18/blob/master/notebooks/nltk-analyzers.ipynb",
     "timestamp": 1637205829575
    }
   ]
  },
  "kernelspec": {
   "display_name": "Python 3 (ipykernel)",
   "language": "python",
   "name": "python3"
  },
  "language_info": {
   "codemirror_mode": {
    "name": "ipython",
    "version": 3
   },
   "file_extension": ".py",
   "mimetype": "text/x-python",
   "name": "python",
   "nbconvert_exporter": "python",
   "pygments_lexer": "ipython3",
   "version": "3.8.12"
  }
 },
 "nbformat": 4,
 "nbformat_minor": 1
}
