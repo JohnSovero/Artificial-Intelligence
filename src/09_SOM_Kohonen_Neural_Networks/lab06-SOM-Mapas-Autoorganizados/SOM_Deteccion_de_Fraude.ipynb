{
  "cells": [
    {
      "cell_type": "markdown",
      "metadata": {
        "id": "CLnYnrTuCEEM"
      },
      "source": [
        "# Detección de fraude mediante el Mapa de Autoorganización - SOM"
      ]
    },
    {
      "cell_type": "markdown",
      "metadata": {
        "id": "UukgBc4_CEEM"
      },
      "source": [
        "Fuente de Datos: https://www.kaggle.com/ujjwal9/credit-card-applications\n"
      ]
    },
    {
      "cell_type": "markdown",
      "metadata": {
        "id": "TirysDRVCEEM"
      },
      "source": [
        "Según un informe reciente publicado por **Markets & Markets**, el mercado de detección y prevención de fraudes tendrá un valor de 33,19 mil millones de dólares para 2021. Esta es una industria enorme y la demanda de habilidades avanzadas de aprendizaje profundo solo va a crecer.\n",
        "\n",
        "El desafío empresarial aquí consiste en detectar el fraude en las aplicaciones de tarjetas de crédito. Crearemos un **modelo de aprendizaje profundo** para un banco y obtendremos un conjunto de datos que contiene información sobre los clientes que solicitan una tarjeta de crédito avanzada.\n"
      ]
    },
    {
      "cell_type": "markdown",
      "metadata": {
        "id": "ZhNCQ1ytCEEM"
      },
      "source": [
        "### OBJETIVO\n",
        "\n",
        "Detectar posibles fraudes dentro de las solicitudes para aplicar a una tarjeta de crédito avanzada, presentando al final una lista explícita de aquellos clientes que potencialmente engañaron con sus datos."
      ]
    },
    {
      "cell_type": "markdown",
      "metadata": {
        "id": "oH-GQwGeCEEM"
      },
      "source": [
        "#### Parte 1: Preprocesamiento de datos"
      ]
    },
    {
      "cell_type": "markdown",
      "metadata": {
        "id": "uO195TynCEEN"
      },
      "source": [
        "En primer lugar, importamos la librería **numpy** utilizada para la matriz multidimensional, luego importamos la librería **pandas** utilizada para importar el conjunto de datos y, por último, importamos la librería **matplotlib** utilizada para trazar el gráfico."
      ]
    },
    {
      "cell_type": "code",
      "execution_count": 2,
      "metadata": {
        "id": "9EpVxJuHCEEN"
      },
      "outputs": [],
      "source": [
        "# importar librerias\n",
        "import numpy as np\n",
        "import pandas as pd\n",
        "import matplotlib.pyplot as plt"
      ]
    },
    {
      "cell_type": "markdown",
      "metadata": {
        "id": "FWMaEoLbCEEO"
      },
      "source": [
        "### Descripción del Conjunto de Datos"
      ]
    },
    {
      "cell_type": "markdown",
      "metadata": {
        "id": "LAOTtFf6CEEO"
      },
      "source": [
        "Los datos se encuentran contenidos en el archivo **Credit_Card_applications.csv**.  Este archivo se refiere a datos suministrados en aplicaciones (formularios) para la obtención de tarjetas de crédito. Todos los nombres y valores de los atributos se han cambiado a símbolos sin sentido para proteger la confidencialidad de los datos.\n",
        "Está compuesto por 690 observaciones y 16 columnas o atributos."
      ]
    },
    {
      "cell_type": "code",
      "execution_count": 3,
      "metadata": {
        "id": "dCMb5h2HCEEO"
      },
      "outputs": [],
      "source": [
        "# obtener el conjunto de datos\n",
        "dataset = pd.read_csv('Credit_Card_Applications.csv')"
      ]
    },
    {
      "cell_type": "markdown",
      "metadata": {
        "id": "2ELEm1G1CEEO"
      },
      "source": [
        "#### (a) Descripción de los atributos"
      ]
    },
    {
      "cell_type": "markdown",
      "metadata": {
        "id": "tQmvhF9_CEEO"
      },
      "source": [
        "Este conjunto de datos es interesante porque hay una buena combinación de atributos: continuo, nominal con un número reducido de valores y nominal con un número mayor de valores. También hay algunos valores perdidos."
      ]
    },
    {
      "cell_type": "code",
      "execution_count": 4,
      "metadata": {
        "colab": {
          "base_uri": "https://localhost:8080/",
          "height": 0
        },
        "id": "hvTHXjG4CEEP",
        "outputId": "13fdb623-e9b0-4ef7-dc51-1dcf2881c2ff"
      },
      "outputs": [
        {
          "name": "stdout",
          "output_type": "stream",
          "text": [
            "<class 'pandas.core.frame.DataFrame'>\n",
            "RangeIndex: 690 entries, 0 to 689\n",
            "Data columns (total 16 columns):\n",
            " #   Column      Non-Null Count  Dtype  \n",
            "---  ------      --------------  -----  \n",
            " 0   CustomerID  690 non-null    int64  \n",
            " 1   A1          690 non-null    int64  \n",
            " 2   A2          690 non-null    float64\n",
            " 3   A3          690 non-null    float64\n",
            " 4   A4          690 non-null    int64  \n",
            " 5   A5          690 non-null    int64  \n",
            " 6   A6          690 non-null    int64  \n",
            " 7   A7          690 non-null    float64\n",
            " 8   A8          690 non-null    int64  \n",
            " 9   A9          690 non-null    int64  \n",
            " 10  A10         690 non-null    int64  \n",
            " 11  A11         690 non-null    int64  \n",
            " 12  A12         690 non-null    int64  \n",
            " 13  A13         690 non-null    int64  \n",
            " 14  A14         690 non-null    int64  \n",
            " 15  Class       690 non-null    int64  \n",
            "dtypes: float64(3), int64(13)\n",
            "memory usage: 86.4 KB\n"
          ]
        }
      ],
      "source": [
        "# Informacion de los atributos\n",
        "dataset.info()"
      ]
    },
    {
      "cell_type": "code",
      "execution_count": 5,
      "metadata": {
        "colab": {
          "base_uri": "https://localhost:8080/",
          "height": 206
        },
        "id": "ewo07PWHCEEP",
        "outputId": "0a05e73a-be2d-41ca-ede2-fa41e3a918d2"
      },
      "outputs": [
        {
          "data": {
            "text/html": [
              "<div>\n",
              "<style scoped>\n",
              "    .dataframe tbody tr th:only-of-type {\n",
              "        vertical-align: middle;\n",
              "    }\n",
              "\n",
              "    .dataframe tbody tr th {\n",
              "        vertical-align: top;\n",
              "    }\n",
              "\n",
              "    .dataframe thead th {\n",
              "        text-align: right;\n",
              "    }\n",
              "</style>\n",
              "<table border=\"1\" class=\"dataframe\">\n",
              "  <thead>\n",
              "    <tr style=\"text-align: right;\">\n",
              "      <th></th>\n",
              "      <th>CustomerID</th>\n",
              "      <th>A1</th>\n",
              "      <th>A2</th>\n",
              "      <th>A3</th>\n",
              "      <th>A4</th>\n",
              "      <th>A5</th>\n",
              "      <th>A6</th>\n",
              "      <th>A7</th>\n",
              "      <th>A8</th>\n",
              "      <th>A9</th>\n",
              "      <th>A10</th>\n",
              "      <th>A11</th>\n",
              "      <th>A12</th>\n",
              "      <th>A13</th>\n",
              "      <th>A14</th>\n",
              "      <th>Class</th>\n",
              "    </tr>\n",
              "  </thead>\n",
              "  <tbody>\n",
              "    <tr>\n",
              "      <th>0</th>\n",
              "      <td>15776156</td>\n",
              "      <td>1</td>\n",
              "      <td>22.08</td>\n",
              "      <td>11.46</td>\n",
              "      <td>2</td>\n",
              "      <td>4</td>\n",
              "      <td>4</td>\n",
              "      <td>1.585</td>\n",
              "      <td>0</td>\n",
              "      <td>0</td>\n",
              "      <td>0</td>\n",
              "      <td>1</td>\n",
              "      <td>2</td>\n",
              "      <td>100</td>\n",
              "      <td>1213</td>\n",
              "      <td>0</td>\n",
              "    </tr>\n",
              "    <tr>\n",
              "      <th>1</th>\n",
              "      <td>15739548</td>\n",
              "      <td>0</td>\n",
              "      <td>22.67</td>\n",
              "      <td>7.00</td>\n",
              "      <td>2</td>\n",
              "      <td>8</td>\n",
              "      <td>4</td>\n",
              "      <td>0.165</td>\n",
              "      <td>0</td>\n",
              "      <td>0</td>\n",
              "      <td>0</td>\n",
              "      <td>0</td>\n",
              "      <td>2</td>\n",
              "      <td>160</td>\n",
              "      <td>1</td>\n",
              "      <td>0</td>\n",
              "    </tr>\n",
              "    <tr>\n",
              "      <th>2</th>\n",
              "      <td>15662854</td>\n",
              "      <td>0</td>\n",
              "      <td>29.58</td>\n",
              "      <td>1.75</td>\n",
              "      <td>1</td>\n",
              "      <td>4</td>\n",
              "      <td>4</td>\n",
              "      <td>1.250</td>\n",
              "      <td>0</td>\n",
              "      <td>0</td>\n",
              "      <td>0</td>\n",
              "      <td>1</td>\n",
              "      <td>2</td>\n",
              "      <td>280</td>\n",
              "      <td>1</td>\n",
              "      <td>0</td>\n",
              "    </tr>\n",
              "    <tr>\n",
              "      <th>3</th>\n",
              "      <td>15687688</td>\n",
              "      <td>0</td>\n",
              "      <td>21.67</td>\n",
              "      <td>11.50</td>\n",
              "      <td>1</td>\n",
              "      <td>5</td>\n",
              "      <td>3</td>\n",
              "      <td>0.000</td>\n",
              "      <td>1</td>\n",
              "      <td>1</td>\n",
              "      <td>11</td>\n",
              "      <td>1</td>\n",
              "      <td>2</td>\n",
              "      <td>0</td>\n",
              "      <td>1</td>\n",
              "      <td>1</td>\n",
              "    </tr>\n",
              "    <tr>\n",
              "      <th>4</th>\n",
              "      <td>15715750</td>\n",
              "      <td>1</td>\n",
              "      <td>20.17</td>\n",
              "      <td>8.17</td>\n",
              "      <td>2</td>\n",
              "      <td>6</td>\n",
              "      <td>4</td>\n",
              "      <td>1.960</td>\n",
              "      <td>1</td>\n",
              "      <td>1</td>\n",
              "      <td>14</td>\n",
              "      <td>0</td>\n",
              "      <td>2</td>\n",
              "      <td>60</td>\n",
              "      <td>159</td>\n",
              "      <td>1</td>\n",
              "    </tr>\n",
              "  </tbody>\n",
              "</table>\n",
              "</div>"
            ],
            "text/plain": [
              "   CustomerID  A1     A2     A3  A4  A5  A6     A7  A8  A9  A10  A11  A12  \\\n",
              "0    15776156   1  22.08  11.46   2   4   4  1.585   0   0    0    1    2   \n",
              "1    15739548   0  22.67   7.00   2   8   4  0.165   0   0    0    0    2   \n",
              "2    15662854   0  29.58   1.75   1   4   4  1.250   0   0    0    1    2   \n",
              "3    15687688   0  21.67  11.50   1   5   3  0.000   1   1   11    1    2   \n",
              "4    15715750   1  20.17   8.17   2   6   4  1.960   1   1   14    0    2   \n",
              "\n",
              "   A13   A14  Class  \n",
              "0  100  1213      0  \n",
              "1  160     1      0  \n",
              "2  280     1      0  \n",
              "3    0     1      1  \n",
              "4   60   159      1  "
            ]
          },
          "execution_count": 5,
          "metadata": {},
          "output_type": "execute_result"
        }
      ],
      "source": [
        "# Una muestra del conjunto de datos\n",
        "dataset.head()"
      ]
    },
    {
      "cell_type": "markdown",
      "metadata": {
        "id": "DES3E6PuCEEP"
      },
      "source": [
        "Existen 6 atributos numéricos y 8 categóricos. Las etiquetas se han cambiado para la conveniencia de los algoritmos estadísticos. Por ejemplo, el atributo A4 originalmente tenía 3 etiquetas p, g, gg y estas se han cambiado a etiquetas 1,2,3.\n",
        "\n",
        "#### (b) Tipos de datos"
      ]
    },
    {
      "cell_type": "markdown",
      "metadata": {
        "id": "WLYABbxICEEQ"
      },
      "source": [
        "**CustomerID:** continuo\n",
        "\n",
        "**A1:** 0,1 CATEGORICO (antes: a, b)\n",
        "\n",
        "**A2:** continuo.\n",
        "\n",
        "**A3:** continuo.\n",
        "\n",
        "**A4:** 1,2,3 CATEGORICO (anteriormente: p, g, gg)\n",
        "\n",
        "**A5:** 1, 2,3,4,5,6,7,8,9,10,11,12,13,14 CATEGORICO (anteriormente: ff, d, i, k, j, aa, m, c, w, e, q, r, cc, x)\n",
        "\n",
        "**A6:** 1, 2,3, 4,5,6,7,8,9 CATEGORICAL (anteriormente : ff, dd, j, bb, v, n, o, h, z)\n",
        "\n",
        "**A7:** continuo.\n",
        "\n",
        "**A8:** 1, 0 CATEGORICAL (antes: t, f)\n",
        "\n",
        "**A9:** 1, 0 CATEGORICAL (antes: t, f)\n",
        "\n",
        "**A10:** continuo.\n",
        "\n",
        "**A11:** 1, 0 CATEGORICAL (antes t, f)\n",
        "\n",
        "**A12:** 1, 2, 3 CATEGORICO (antes: s, g, p)\n",
        "\n",
        "**A13:** continuo.\n",
        "\n",
        "**A14:** continuo.\n",
        "\n",
        "**A15:** atributo de clase 1,2 (anteriormente: +, -)"
      ]
    },
    {
      "cell_type": "markdown",
      "metadata": {
        "id": "LgZxbK8NCEEQ"
      },
      "source": [
        "Después de importar el conjunto de datos, definimos nuestra variable dependiente e independiente. Nuestras variables independientes son de 1 a 12 atributos, como puede ver en el conjunto de datos de muestra que llamamos **'X'** y la variable dependiente es el último atributo al que llamamos **'y'**."
      ]
    },
    {
      "cell_type": "markdown",
      "metadata": {
        "id": "YV7cpEL-CEEQ"
      },
      "source": [
        "**Nota:** construiremos el modelo de SOM, que es aprendizaje profundo no supervisado, por lo que estamos trabajando con variables independientes."
      ]
    },
    {
      "cell_type": "code",
      "execution_count": 6,
      "metadata": {
        "id": "HbR3_P8ZCEEQ"
      },
      "outputs": [],
      "source": [
        "# Definicion de variable dependiente e independientes\n",
        "X = dataset.iloc [: ,:-1].values    # variables independientes\n",
        "y = dataset.iloc [: , -1].values    # variable dependiente"
      ]
    },
    {
      "cell_type": "code",
      "execution_count": 7,
      "metadata": {
        "colab": {
          "base_uri": "https://localhost:8080/",
          "height": 0
        },
        "id": "FdUqNMkZCEEQ",
        "outputId": "1ebfb5f2-153f-4971-80be-53fd11a1d3da"
      },
      "outputs": [
        {
          "name": "stdout",
          "output_type": "stream",
          "text": [
            "Variables independientes X:  [[1.5776156e+07 1.0000000e+00 2.2080000e+01 ... 2.0000000e+00\n",
            "  1.0000000e+02 1.2130000e+03]\n",
            " [1.5739548e+07 0.0000000e+00 2.2670000e+01 ... 2.0000000e+00\n",
            "  1.6000000e+02 1.0000000e+00]\n",
            " [1.5662854e+07 0.0000000e+00 2.9580000e+01 ... 2.0000000e+00\n",
            "  2.8000000e+02 1.0000000e+00]\n",
            " ...\n",
            " [1.5675450e+07 0.0000000e+00 1.8830000e+01 ... 2.0000000e+00\n",
            "  1.0000000e+02 1.0000000e+00]\n",
            " [1.5776494e+07 0.0000000e+00 2.7420000e+01 ... 2.0000000e+00\n",
            "  1.2000000e+02 1.2000000e+01]\n",
            " [1.5592412e+07 1.0000000e+00 4.1000000e+01 ... 1.0000000e+00\n",
            "  5.6000000e+02 1.0000000e+00]]\n"
          ]
        }
      ],
      "source": [
        "print(\"Variables independientes X: \", X)"
      ]
    },
    {
      "cell_type": "code",
      "execution_count": 8,
      "metadata": {
        "colab": {
          "base_uri": "https://localhost:8080/",
          "height": 0
        },
        "id": "J7EFKna8CEEQ",
        "outputId": "03a1b440-ca80-4805-e19f-b04a9b315791"
      },
      "outputs": [
        {
          "name": "stdout",
          "output_type": "stream",
          "text": [
            "Variable dependientes y:  [0 0 0 1 1 1 0 1 0 0 1 1 0 1 0 1 1 1 0 1 0 0 0 0 0 1 0 1 1 1 1 0 0 1 0 0 1\n",
            " 1 1 1 1 0 1 0 0 1 0 1 0 1 0 0 0 0 0 1 1 0 1 1 0 0 1 0 1 1 0 0 0 1 0 0 0 1\n",
            " 1 0 0 0 0 1 1 0 0 0 0 1 0 1 1 0 0 0 0 1 0 1 0 0 0 1 0 1 1 1 0 1 1 0 1 0 0\n",
            " 0 0 1 0 1 1 1 1 1 1 0 0 1 1 0 1 0 1 1 1 0 0 0 0 0 0 1 1 1 0 0 0 1 0 1 1 0\n",
            " 0 1 1 0 0 0 1 1 1 0 1 0 0 0 1 1 0 0 0 1 0 0 0 1 0 0 1 0 0 0 1 1 0 0 1 1 1\n",
            " 0 0 0 0 0 0 1 0 0 0 1 1 0 0 0 1 0 1 0 1 1 0 0 0 0 1 1 0 0 0 1 0 0 0 1 1 0\n",
            " 1 0 0 0 0 1 1 1 1 0 0 1 1 1 0 0 0 1 1 1 1 0 0 0 0 1 1 1 0 0 1 0 1 1 1 1 0\n",
            " 0 0 1 0 1 1 0 0 1 0 0 0 1 0 1 1 0 0 0 1 1 0 0 0 0 0 1 1 1 0 0 0 0 1 1 1 0\n",
            " 0 0 1 0 1 0 0 0 0 1 0 1 0 0 0 0 0 1 1 0 0 1 0 1 1 1 1 1 1 1 0 0 0 0 1 1 1\n",
            " 0 0 0 1 0 1 0 0 0 1 1 1 1 1 1 1 0 1 0 1 0 0 0 0 0 1 0 1 1 0 0 0 0 0 1 0 1\n",
            " 1 0 0 0 1 1 1 0 0 1 1 0 0 0 1 1 0 1 1 1 1 0 0 1 1 0 0 0 0 0 0 1 0 0 0 1 1\n",
            " 0 1 0 0 0 1 1 1 0 0 1 0 1 1 1 0 1 0 0 1 0 0 0 1 0 0 1 0 1 0 1 1 0 1 0 0 1\n",
            " 0 1 1 0 0 0 0 0 1 1 0 0 1 1 0 1 0 1 0 1 0 1 1 0 1 0 1 1 1 0 0 0 0 0 1 0 1\n",
            " 0 0 0 1 1 1 1 1 0 1 1 0 0 0 1 1 1 1 1 1 0 1 1 1 1 0 0 0 0 0 0 0 1 0 0 1 1\n",
            " 1 0 1 0 0 1 1 0 1 0 0 0 0 0 0 1 0 1 0 1 1 1 0 0 1 0 0 0 0 0 0 0 1 1 0 0 0\n",
            " 0 0 1 0 1 0 1 0 0 1 1 1 0 0 0 0 0 1 0 1 1 0 0 0 0 0 1 1 1 0 1 0 1 1 0 0 1\n",
            " 0 1 0 0 1 1 0 1 0 1 1 1 1 0 0 1 0 1 1 0 1 0 1 1 0 0 0 1 0 1 1 0 1 0 0 0 0\n",
            " 0 1 0 1 0 0 0 0 0 0 1 0 1 1 0 0 0 0 0 0 1 1 0 0 1 0 0 1 0 0 1 1 0 1 1 0 0\n",
            " 0 0 0 0 1 1 0 1 1 0 0 0 0 1 0 0 1 0 1 1 0 1 1 1]\n"
          ]
        }
      ],
      "source": [
        "print(\"Variable dependientes y: \", y)"
      ]
    },
    {
      "cell_type": "markdown",
      "metadata": {
        "id": "mmhlEsITCEEQ"
      },
      "source": [
        "#### (c) Escala de funciones"
      ]
    },
    {
      "cell_type": "markdown",
      "metadata": {
        "id": "3yXO4ZnICEER"
      },
      "source": [
        "El escalado de características es la parte más importante del preprocesamiento de datos. Si vemos nuestro conjunto de datos, entonces algún atributo contiene información en valor numérico, algunos valores son muy altos y algunos son muy bajos si vemos la edad y el salario estimado. Esto causará algunos problemas en nuestro modelo de maquinaria para resolver ese problema. Establecemos todos los valores en la misma escala. Hay dos métodos para resolver ese problema, el primero es **Normalizar** y el segundo es **Escalador estándar**."
      ]
    },
    {
      "cell_type": "markdown",
      "metadata": {
        "id": "9zl_oHZeCEER"
      },
      "source": [
        "![escalar_vs_normalizar.png](attachment:escalar_vs_normalizar.png)"
      ]
    },
    {
      "cell_type": "markdown",
      "metadata": {
        "id": "HGyYq9OsCEER"
      },
      "source": [
        "Aquí utilizamos la **Normalización**, importamos la librería **MinMaxScaler** desde Sklearn."
      ]
    },
    {
      "cell_type": "code",
      "execution_count": 9,
      "metadata": {
        "colab": {
          "base_uri": "https://localhost:8080/",
          "height": 0
        },
        "id": "midJqpzhCEER",
        "outputId": "836cfffa-43d0-424d-812f-f3ece7cb643d"
      },
      "outputs": [
        {
          "ename": "ModuleNotFoundError",
          "evalue": "No module named 'sklearn'",
          "output_type": "error",
          "traceback": [
            "\u001b[1;31m---------------------------------------------------------------------------\u001b[0m",
            "\u001b[1;31mModuleNotFoundError\u001b[0m                       Traceback (most recent call last)",
            "\u001b[1;32md:\\OneDrive - Universidad Peruana de Ciencias\\Documents\\Carrera\\2023-2\\Artificial-Intelligence\\09_SOM_Kohonen_Networks\\SOM_Deteccion_de_Fraude.ipynb Cell 26\u001b[0m line \u001b[0;36m2\n\u001b[0;32m      <a href='vscode-notebook-cell:/d%3A/OneDrive%20-%20Universidad%20Peruana%20de%20Ciencias/Documents/Carrera/2023-2/Artificial-Intelligence/09_SOM_Kohonen_Networks/SOM_Deteccion_de_Fraude.ipynb#X34sZmlsZQ%3D%3D?line=0'>1</a>\u001b[0m \u001b[39m# Escalar las variables independientes entre 0 y 1\u001b[39;00m\n\u001b[1;32m----> <a href='vscode-notebook-cell:/d%3A/OneDrive%20-%20Universidad%20Peruana%20de%20Ciencias/Documents/Carrera/2023-2/Artificial-Intelligence/09_SOM_Kohonen_Networks/SOM_Deteccion_de_Fraude.ipynb#X34sZmlsZQ%3D%3D?line=1'>2</a>\u001b[0m \u001b[39mfrom\u001b[39;00m \u001b[39msklearn\u001b[39;00m\u001b[39m.\u001b[39;00m\u001b[39mpreprocessing\u001b[39;00m \u001b[39mimport\u001b[39;00m MinMaxScaler\n\u001b[0;32m      <a href='vscode-notebook-cell:/d%3A/OneDrive%20-%20Universidad%20Peruana%20de%20Ciencias/Documents/Carrera/2023-2/Artificial-Intelligence/09_SOM_Kohonen_Networks/SOM_Deteccion_de_Fraude.ipynb#X34sZmlsZQ%3D%3D?line=2'>3</a>\u001b[0m sc \u001b[39m=\u001b[39m MinMaxScaler(feature_range \u001b[39m=\u001b[39m (\u001b[39m0\u001b[39m,\u001b[39m1\u001b[39m))\n\u001b[0;32m      <a href='vscode-notebook-cell:/d%3A/OneDrive%20-%20Universidad%20Peruana%20de%20Ciencias/Documents/Carrera/2023-2/Artificial-Intelligence/09_SOM_Kohonen_Networks/SOM_Deteccion_de_Fraude.ipynb#X34sZmlsZQ%3D%3D?line=3'>4</a>\u001b[0m X \u001b[39m=\u001b[39m sc\u001b[39m.\u001b[39mfit_transform(X)\n",
            "\u001b[1;31mModuleNotFoundError\u001b[0m: No module named 'sklearn'"
          ]
        }
      ],
      "source": [
        "# Escalar las variables independientes entre 0 y 1\n",
        "from sklearn.preprocessing import MinMaxScaler\n",
        "sc = MinMaxScaler(feature_range = (0,1))\n",
        "X = sc.fit_transform(X)\n",
        "print(\"Variables dependientes X: \", X)"
      ]
    },
    {
      "cell_type": "markdown",
      "metadata": {
        "id": "KxHCDX3SCEER"
      },
      "source": [
        "#### Parte 2: Construyendo el modelo SOM"
      ]
    },
    {
      "cell_type": "markdown",
      "metadata": {
        "id": "MupHjuYBCEER"
      },
      "source": [
        "En esta parte, crearemos el modelo de mapas autoorganizados.\n",
        "\n",
        "Utilizaremos el **modelo MiniSom**, el cual deberemos instalar desde pypi.org (pip install MiniSom )"
      ]
    },
    {
      "cell_type": "code",
      "execution_count": null,
      "metadata": {
        "colab": {
          "base_uri": "https://localhost:8080/",
          "height": 0
        },
        "id": "LGoQPDZiDc17",
        "outputId": "07ebd15f-9693-4cd1-e227-1cec8505239a"
      },
      "outputs": [
        {
          "name": "stdout",
          "output_type": "stream",
          "text": [
            "Collecting minisom\n",
            "  Downloading MiniSom-2.3.1.tar.gz (10 kB)\n",
            "  Preparing metadata (setup.py) ... \u001b[?25l\u001b[?25hdone\n",
            "Building wheels for collected packages: minisom\n",
            "  Building wheel for minisom (setup.py) ... \u001b[?25l\u001b[?25hdone\n",
            "  Created wheel for minisom: filename=MiniSom-2.3.1-py3-none-any.whl size=10588 sha256=99d2cc647707c2fdf935ce66af513e320fc4400c42bba0d1f53b5e37b050b38c\n",
            "  Stored in directory: /root/.cache/pip/wheels/c7/92/d2/33bbda5f86fd8830510b16aa98c8dd420129b5cb24248fd6db\n",
            "Successfully built minisom\n",
            "Installing collected packages: minisom\n",
            "Successfully installed minisom-2.3.1\n"
          ]
        }
      ],
      "source": [
        "!pip install minisom"
      ]
    },
    {
      "cell_type": "code",
      "execution_count": null,
      "metadata": {
        "id": "pOvL_9JKCEER"
      },
      "outputs": [],
      "source": [
        "# importar el modelo SOM - Si es la primera vez, instalarlo con pip install MiniSom\n",
        "from minisom import MiniSom"
      ]
    },
    {
      "cell_type": "markdown",
      "metadata": {
        "id": "cfygjYzGCEER"
      },
      "source": [
        "#### (a) Inicializar el modelo"
      ]
    },
    {
      "cell_type": "markdown",
      "metadata": {
        "id": "grwwyo3yCEES"
      },
      "source": [
        "En este paso, inicializamos nuestro modelo SOM y pasamos varios parámetros:\n",
        "\n",
        "* Los dos primeros son la dimensión de nuestro mapa SOM aquí x = 10 & y = 10 significa que tomamos una cuadrícula de 10 por 10.\n",
        "\n",
        "* El tercer parámetro es la longitud de entrada, tenemos 15 atributos diferentes en nuestras columnas de conjunto de datos, por lo que input_lenght = 15.\n",
        "\n",
        "* El cuarto parámetro es sigma, que es el radio de un vecindario diferente en la cuadrícula, por lo que mantendremos 1.0 (que es el valor predeterminado para los SOM).\n",
        "\n",
        "* Y los últimos parámetros pasados son la **tasa de aprendizaje**, que es un hiperparámetro, el tamaño de la cantidad de peso que se actualiza durante cada iteración, por lo que cuanto más alta es la tasa de aprendizaje, más rápida es la conversión y mantenemos el valor predeterminado que es 0.5."
      ]
    },
    {
      "cell_type": "code",
      "execution_count": null,
      "metadata": {
        "id": "TSqrTXQFCEES"
      },
      "outputs": [],
      "source": [
        "# Inicializar el modelo\n",
        "som = MiniSom( x = 10, y = 10, input_len = 15, sigma = 1.0, learning_rate = 0.5)"
      ]
    },
    {
      "cell_type": "markdown",
      "metadata": {
        "id": "1yQqAMc2CEES"
      },
      "source": [
        "#### (b) Inicializar los pesos"
      ]
    },
    {
      "cell_type": "markdown",
      "metadata": {
        "id": "TLD8BFy3CEES"
      },
      "source": [
        "En este paso, inicializamos aleatoriamente nuestras ponderaciones mediante el uso de nuestro modelo SOM inicializado (en la variable som) y pasamos solo un parámetro aquí, el cual es nuestro vector de entrada **X** (las variables independientes del conjunto de datos)."
      ]
    },
    {
      "cell_type": "code",
      "execution_count": null,
      "metadata": {
        "id": "3PMWcvmoCEES"
      },
      "outputs": [],
      "source": [
        "# Inicializar los pesos\n",
        "som.random_weights_init(X)"
      ]
    },
    {
      "cell_type": "markdown",
      "metadata": {
        "id": "3-IkqwhkCEES"
      },
      "source": [
        "#### (c) Entrenar el modelo"
      ]
    },
    {
      "cell_type": "markdown",
      "metadata": {
        "id": "PeImVaCdCEET"
      },
      "source": [
        "En este paso entrenamos nuestro modelo. Aquí pasamos dos argumentos:\n",
        "\n",
        "* Primero son nuestros datos o el vector de entrada X y\n",
        "\n",
        "* El segundo es el número de iteraciones (epocas), que en nuestro caso elegimos 100."
      ]
    },
    {
      "cell_type": "code",
      "execution_count": null,
      "metadata": {
        "id": "LZFXj7iACEEX"
      },
      "outputs": [],
      "source": [
        "# Entrenar el modelo\n",
        "som.train_random(data = X, num_iteration = 100)"
      ]
    },
    {
      "cell_type": "markdown",
      "metadata": {
        "id": "Y9ugtoAdCEEX"
      },
      "source": [
        "#### Parte 3: Visualizando el resultado"
      ]
    },
    {
      "cell_type": "markdown",
      "metadata": {
        "id": "fnc_qEdZCEEX"
      },
      "source": [
        "En este paso, construimos una visualización del mapa autoorganizado. En primer lugar importamos la librería **pylab** que se utiliza para la visualización de nuestro resultado y desde esta importamos diferentes paquetes.\n",
        "\n",
        "* La instrucción bone() está creando una ventana y luego en la tercera línea de código, con pcolor() tomamos la media de todos los nodos ganadores.\n",
        "\n",
        "* Luego con colorbar() creamos una barra de color cuyo valor esté entre 0 y 1.\n",
        "\n",
        "* Con la instrucción markers (marcadorores), tomamos un círculo de color rojo que significa que el cliente no obtuvo la aprobación y un cuadrado de color verde que identifica qué cliente si obtiene la aprobación."
      ]
    },
    {
      "cell_type": "code",
      "execution_count": null,
      "metadata": {
        "colab": {
          "base_uri": "https://localhost:8080/",
          "height": 435
        },
        "id": "xNMetIQ-CEEY",
        "outputId": "d406636c-577b-4be2-f79b-19d24a5728d5"
      },
      "outputs": [
        {
          "data": {
            "image/png": "[encoded data removed]",
            "text/plain": [
              "<Figure size 640x480 with 2 Axes>"
            ]
          },
          "metadata": {},
          "output_type": "display_data"
        }
      ],
      "source": [
        "# Hacer un mapa de autoorganización\n",
        "from pylab import bone, pcolor, colorbar, plot, show\n",
        "bone()\n",
        "pcolor(som.distance_map().T)\n",
        "colorbar()\n",
        "markers = ['o' , 's']\n",
        "colors = ['r', 'g']\n",
        "for i, x in enumerate(X):\n",
        "    w = som.winner(x)\n",
        "    plot(w[0] + 0.5,\n",
        "         w[1] + 0.5,\n",
        "         markers[y[i]],\n",
        "         markeredgecolor = colors[y[i]],\n",
        "         markerfacecolor = 'None',\n",
        "         markersize = 10,\n",
        "         markeredgewidth = 2)\n",
        "show()"
      ]
    },
    {
      "cell_type": "markdown",
      "metadata": {
        "id": "6cWouckfCEEY"
      },
      "source": [
        "Aquí está nuestro **mapa autoorganizado**, el círculo rojo significa que el cliente no obtuvo la aprobación y el cuadrado verde significa que el cliente sí obtuvo la aprobación.\n",
        "\n",
        "Y si observamos nuestro valor atípico, entonces el área de color blanco es un fraude de alto potencial.\n",
        "\n",
        "En la siguiente parte (Parte 4), capturaremos al tramposo (podremos verlo tanto en rojo como en verde)."
      ]
    },
    {
      "cell_type": "markdown",
      "metadata": {
        "id": "8ZFeK_IcCEEY"
      },
      "source": [
        "#### Parte 4: Detectar el posible fraude"
      ]
    },
    {
      "cell_type": "markdown",
      "metadata": {
        "id": "0zA2eu2bCEEY"
      },
      "source": [
        "En esta parte, detectamos el posible fraude del cliente del mapa autoorganizado que visualizamos arriba."
      ]
    },
    {
      "cell_type": "markdown",
      "metadata": {
        "id": "g0685AS2CEEY"
      },
      "source": [
        "#### (a) Mapeo del nodo ganador"
      ]
    },
    {
      "cell_type": "markdown",
      "metadata": {
        "id": "uGqNU3xaCEEZ"
      },
      "source": [
        "En este paso, mapeamos todos los nodos ganadores de clientes del Mapa autoorganizado."
      ]
    },
    {
      "cell_type": "code",
      "execution_count": null,
      "metadata": {
        "id": "3pK0gikMCEEZ"
      },
      "outputs": [],
      "source": [
        "# Mapeo del nodo ganador\n",
        "mappings = som.win_map(X)"
      ]
    },
    {
      "cell_type": "markdown",
      "metadata": {
        "id": "F_n-KH-FCEEZ"
      },
      "source": [
        "#### (b) Atrapar al tramposo"
      ]
    },
    {
      "cell_type": "markdown",
      "metadata": {
        "id": "yUzzTpYtCEEZ"
      },
      "source": [
        "En este paso detectamos el fraude tomando solo a aquellos clientes que puedan hacer trampa si vemos en nuestro SOM y luego vemos claramente que el mapeo [(7, 1), (3, 1) y (5, 1)] son **potenciales engaños** y usamos concatenate() para concatenar estos tres valores de mapeo para ponerlos en la misma lista."
      ]
    },
    {
      "cell_type": "code",
      "execution_count": null,
      "metadata": {
        "id": "UhlmuQo5CEEZ"
      },
      "outputs": [],
      "source": [
        "# atrapar al tramposo\n",
        "fraudes = np.concatenate((mappings[(7,1)], mappings[(3,2)], mappings[(5,4)] ), axis=0)"
      ]
    },
    {
      "cell_type": "markdown",
      "metadata": {
        "id": "mc4AEHglCEEZ"
      },
      "source": [
        "#### (c) Cambiar la escala del valor"
      ]
    },
    {
      "cell_type": "markdown",
      "metadata": {
        "id": "_BebUsWWCEEZ"
      },
      "source": [
        "En este paso, convertimos nuestro valor de escala (entre 0 y 1) en la escala original. Para hacer eso usamos la función inversa."
      ]
    },
    {
      "cell_type": "code",
      "execution_count": null,
      "metadata": {
        "id": "R555iE5LCEEb"
      },
      "outputs": [],
      "source": [
        "# cambiar la escala del valor usando la función inversa\n",
        "fraudes = sc.inverse_transform(fraudes)"
      ]
    },
    {
      "cell_type": "markdown",
      "metadata": {
        "id": "gPvsOPxACEEb"
      },
      "source": [
        "Finalmente, llamamos a la variable fraudes y obtendremos la lista completa de los clientes que podrían engañar al banco."
      ]
    },
    {
      "cell_type": "code",
      "execution_count": null,
      "metadata": {
        "colab": {
          "base_uri": "https://localhost:8080/",
          "height": 0
        },
        "id": "OSRsMTHHCEEb",
        "outputId": "4e01b749-2662-451b-c6bd-48d6971931a4"
      },
      "outputs": [
        {
          "data": {
            "text/plain": [
              "array([15609356., 15588123., 15572390., 15575243., 15663194., 15631693.,\n",
              "       15586174., 15646563., 15594651., 15672894., 15651868., 15716082.,\n",
              "       15593959., 15629750., 15672637., 15592999., 15611409., 15609987.,\n",
              "       15609758., 15636454., 15608916., 15615296., 15631685., 15649379.,\n",
              "       15587297., 15609823., 15614813., 15594133., 15571081., 15706268.,\n",
              "       15653147., 15721507., 15625501., 15636562., 15687765., 15589541.,\n",
              "       15700046., 15569595., 15598574., 15587443.])"
            ]
          },
          "execution_count": 20,
          "metadata": {},
          "output_type": "execute_result"
        }
      ],
      "source": [
        "# Mostramos es ID de los clientes que podrian engañar al banco\n",
        "#len(fraudes)\n",
        "fraudes[:,0]"
      ]
    }
  ],
  "metadata": {
    "colab": {
      "provenance": []
    },
    "kernelspec": {
      "display_name": "Python 3",
      "language": "python",
      "name": "python3"
    },
    "language_info": {
      "codemirror_mode": {
        "name": "ipython",
        "version": 3
      },
      "file_extension": ".py",
      "mimetype": "text/x-python",
      "name": "python",
      "nbconvert_exporter": "python",
      "pygments_lexer": "ipython3",
      "version": "3.11.5"
    }
  },
  "nbformat": 4,
  "nbformat_minor": 0
}
