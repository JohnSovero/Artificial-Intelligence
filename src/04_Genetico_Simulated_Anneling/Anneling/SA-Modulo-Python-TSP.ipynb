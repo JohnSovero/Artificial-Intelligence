{
 "cells": [
  {
   "cell_type": "markdown",
   "metadata": {},
   "source": [
    "### Algoritmo de Busqueda Simulated Anneling - TSP"
   ]
  },
  {
   "cell_type": "markdown",
   "metadata": {},
   "source": [
    "#### Solución al problema del vendedor ambulante utilizando el módulo simanneal"
   ]
  },
  {
   "cell_type": "markdown",
   "metadata": {},
   "source": [
    "El problema de optimización discreta por excelencia es el problema del viajante (TSP por sus siglas en ingles):\n",
    "\n",
    "| Dada una lista de ubicaciones, ¿cuál es la ruta más corta posible que llega a cada ubicación y regresa a la ciudad de partida?\n",
    "\n",
    "Para ponerlo en términos de nuestro marco de recocido simulado:\n",
    "\n",
    "* El **estado** es una lista ordenada de lugares para visitar.\n",
    "* El **movimiento** baraja dos ciudades en la lista.\n",
    "* La **energía** de un estado dado es la distancia recorrida"
   ]
  },
  {
   "cell_type": "markdown",
   "metadata": {},
   "source": [
    "#### Módulo de Python para Simulated Anneling"
   ]
  },
  {
   "cell_type": "markdown",
   "metadata": {},
   "source": [
    "Este módulo realiza una optimización de recocido simulado para encontrar el estado óptimo de un sistema. Está inspirado en el proceso metalúrgico de recocido mediante el cual los metales deben enfriarse en un horario regular para asentarse en su estado de energía más bajo.\n",
    "\n",
    "El recocido simulado se utiliza para encontrar una solución cercana a la óptima entre un conjunto extremadamente grande (pero finito) de soluciones potenciales. Es particularmente útil para problemas de optimización combinatoria definidos por funciones objetivas complejas que dependen de datos externos.\n",
    "\n",
    "El proceso implica:\n",
    "\n",
    "* Mover o alterar aleatoriamente el estado\n",
    "* Evaluar la energía del nuevo estado usando una función objetivo.\n",
    "* Comparar la energía con el estado anterior y decida si acepta la nueva solución o la rechaza en función de la temperatura actual .\n",
    "* Repitir hasta que haya convergido en una respuesta aceptable.\n",
    "\n",
    "Para que un tour sea aceptado, debe cumplir uno de dos requisitos:\n",
    "\n",
    "* El movimiento provoca una disminución en la energía del estado (es decir, una mejora en la función objetivo)\n",
    "* El movimiento aumenta la energía del estado (es decir, una solución ligeramente peor) pero está dentro de los límites de la temperatura. La temperatura disminuye exponencialmente a medida que avanza el algoritmo. De esta manera, evitamos quedar atrapados por los mínimos locales al principio del proceso, pero comenzamos a afinar una solución viable al final."
   ]
  },
  {
   "cell_type": "markdown",
   "metadata": {},
   "source": [
    "#### 1. Instalación de libreria simanneal"
   ]
  },
  {
   "cell_type": "markdown",
   "metadata": {},
   "source": [
    "Instalar la libreria **simanneal**\n",
    "\n",
    "pip instalar simanneal   # desde pypi"
   ]
  },
  {
   "cell_type": "markdown",
   "metadata": {},
   "source": [
    "#### 2. Importación de librerías necesarias"
   ]
  },
  {
   "cell_type": "code",
   "execution_count": 11,
   "metadata": {},
   "outputs": [],
   "source": [
    "from __future__ import print_function\n",
    "import math\n",
    "import random\n",
    "from collections import defaultdict\n",
    "from simanneal import Annealer"
   ]
  },
  {
   "cell_type": "markdown",
   "metadata": {},
   "source": [
    "#### 3. Tour de ciudades"
   ]
  },
  {
   "cell_type": "markdown",
   "metadata": {},
   "source": [
    "Definimos la lista de ciudades a visitar."
   ]
  },
  {
   "cell_type": "code",
   "execution_count": 12,
   "metadata": {},
   "outputs": [],
   "source": [
    "if __name__ == '__main__':\n",
    "\n",
    "    # latitud y longitud de las veinte ciudades más grandes de EE. UU.\n",
    "    cities = {\n",
    "        'New York City': (40.72, 74.00),\n",
    "        'Los Angeles': (34.05, 118.25),\n",
    "        'Chicago': (41.88, 87.63),\n",
    "        'Houston': (29.77, 95.38),\n",
    "        'Phoenix': (33.45, 112.07),\n",
    "        'Philadelphia': (39.95, 75.17),\n",
    "        'San Antonio': (29.53, 98.47),\n",
    "        'Dallas': (32.78, 96.80),\n",
    "        'San Diego': (32.78, 117.15),\n",
    "        'San Jose': (37.30, 121.87),\n",
    "        'Detroit': (42.33, 83.05),\n",
    "        'San Francisco': (37.78, 122.42),\n",
    "        'Jacksonville': (30.32, 81.70),\n",
    "        'Indianapolis': (39.78, 86.15),\n",
    "        'Austin': (30.27, 97.77),\n",
    "        'Columbus': (39.98, 82.98),\n",
    "        'Fort Worth': (32.75, 97.33),\n",
    "        'Charlotte': (35.23, 80.85),\n",
    "        'Memphis': (35.12, 89.97),\n",
    "        'Baltimore': (39.28, 76.62)\n",
    "    }"
   ]
  },
  {
   "cell_type": "markdown",
   "metadata": {},
   "source": [
    "Es necesario calcular la distancia entre dos ciudades a partir de sus coordenadas.  Para ello, definimos la funcion **distance**"
   ]
  },
  {
   "cell_type": "code",
   "execution_count": 13,
   "metadata": {},
   "outputs": [],
   "source": [
    "def distance(a, b):\n",
    "    \"\"\"Calcula la distancia entre dos coordenadas de latitud y longitud.\"\"\"\n",
    "    R = 3963  # radio de la Tierra (millas)\n",
    "    lat1, lon1 = math.radians(a[0]), math.radians(a[1])\n",
    "    lat2, lon2 = math.radians(b[0]), math.radians(b[1])\n",
    "    return math.acos(math.sin(lat1) * math.sin(lat2) +\n",
    "                     math.cos(lat1) * math.cos(lat2) * math.cos(lon1 - lon2)) * R"
   ]
  },
  {
   "cell_type": "markdown",
   "metadata": {},
   "source": [
    "Se crea una matriz de distancias para cada item de la lista de ciudades posibles a visitar"
   ]
  },
  {
   "cell_type": "code",
   "execution_count": 14,
   "metadata": {},
   "outputs": [],
   "source": [
    "# Se crea una matriz de distancia\n",
    "distance_matrix = defaultdict(dict)\n",
    "for ka, va in cities.items():\n",
    "    for kb, vb in cities.items():\n",
    "        distance_matrix[ka][kb] = 0.0 if kb == ka else distance(va, vb)"
   ]
  },
  {
   "cell_type": "markdown",
   "metadata": {},
   "source": [
    "#### 3. Definición del problema"
   ]
  },
  {
   "cell_type": "markdown",
   "metadata": {},
   "source": [
    "Para definir nuestro problema, creamos una clase que hereda de simanneal.Annealer\n",
    "\n",
    "Dentro de esa clase, definimos dos métodos obligatorios. \n",
    "* Primero: definimos el **movimiento**\n",
    "* Segundo: definimos cómo se calcula **la energía** (también conocida como función objetivo)\n",
    "\n",
    "Tener en cuenta que ambos métodos tienen acceso al self.state que rastrea el estado actual del proceso."
   ]
  },
  {
   "cell_type": "code",
   "execution_count": 15,
   "metadata": {},
   "outputs": [],
   "source": [
    "class TravellingSalesmanProblem(Annealer):\n",
    "\n",
    "    \"\"\"Prueba del Algoritmo Simulated Anneling con un problema de vendedor ambulante.\n",
    "    \"\"\"\n",
    "\n",
    "    # pass extra data (the distance matrix) into the constructor\n",
    "    def __init__(self, state, distance_matrix):\n",
    "        self.distance_matrix = distance_matrix\n",
    "        super(TravellingSalesmanProblem, self).__init__(state)  # important!\n",
    "\n",
    "    def move(self):\n",
    "        \"\"\"Intercambia dos ciudades en la ruta\"\"\"\n",
    "        # no se gana en eficiencia, solo se prueba eloncepto\n",
    "        # demuestra la devolución de la energía delta (opcional)\n",
    "        initial_energy = self.energy()\n",
    "\n",
    "        a = random.randint(0, len(self.state) - 1)\n",
    "        b = random.randint(0, len(self.state) - 1)\n",
    "        self.state[a], self.state[b] = self.state[b], self.state[a]\n",
    "\n",
    "        return self.energy() - initial_energy\n",
    "\n",
    "    def energy(self):\n",
    "        \"\"\"Calcula la longitud de la ruta\"\"\"\n",
    "        e = 0\n",
    "        for i in range(len(self.state)):\n",
    "            e += self.distance_matrix[self.state[i-1]][self.state[i]]\n",
    "        return e"
   ]
  },
  {
   "cell_type": "code",
   "execution_count": 40,
   "metadata": {},
   "outputs": [],
   "source": [
    "# Se actualiza el estado inicial, se elige un itinerario ordenado al azar\n",
    "init_state = list(cities)\n",
    "random.shuffle(init_state)"
   ]
  },
  {
   "cell_type": "markdown",
   "metadata": {},
   "source": [
    "El algoritmo de recocido simulado requiere que realicemos un seguimiento de los estados (actual, anterior, mejor), lo que significa que debemos copiar con self.state frecuencia.\n",
    "\n",
    "Copiar un objeto en Python no siempre es sencillo o eficaz. La biblioteca estándar proporciona un copy.deepcopy()método para copiar objetos de Python arbitrarios, pero es muy costoso. Ciertos objetos se pueden copiar por medios más eficientes: las listas se pueden dividir y los diccionarios pueden usar su propio método .copy, etc.\n",
    "\n",
    "Para facilitar la flexibilidad, se puede especificar el atributo copy_strategy que define uno de estos tipos de copy:\n",
    "\n",
    "* deepcopy: usos copy.deepcopy(object)\n",
    "* slice: usos object[:]\n",
    "* method: usos object.copy()"
   ]
  },
  {
   "cell_type": "markdown",
   "metadata": {},
   "source": [
    "Ahora, con nuestro problema especificado, podemos construir una instancia de **TravellingSalesmanProblem** y proporcionarle un estado inicial."
   ]
  },
  {
   "cell_type": "code",
   "execution_count": 41,
   "metadata": {},
   "outputs": [
    {
     "name": "stderr",
     "output_type": "stream",
     "text": [
      " Temperature        Energy    Accept   Improve     Elapsed   Remaining\n",
      "     1.50000       6898.57     5.70%     0.00%     0:00:02    -1:59:59 Temperature        Energy    Accept   Improve     Elapsed   Remaining\n",
      "     1.50000       6801.84     5.07%     0.00%     0:00:13     0:00:00"
     ]
    }
   ],
   "source": [
    "tsp = TravellingSalesmanProblem(init_state, distance_matrix)\n",
    "tsp.set_schedule(tsp.auto(minutes=0.5))\n",
    "\n",
    "# dado que nuestro estado es solo una lista, el segmento (slice) es la forma más rápida de copiar\n",
    "tsp.copy_strategy = \"slice\"\n",
    "state, e = tsp.anneal()"
   ]
  },
  {
   "cell_type": "code",
   "execution_count": 44,
   "metadata": {},
   "outputs": [
    {
     "name": "stderr",
     "output_type": "stream",
     "text": [
      " Temperature        Energy    Accept   Improve     Elapsed   Remaining\n",
      "     0.87000       7046.86     5.00%     0.00%     0:00:03    -1:59:59 Temperature        Energy    Accept   Improve     Elapsed   Remaining\n",
      "     0.87000       6801.84     5.05%     0.00%     0:00:09     0:00:00"
     ]
    }
   ],
   "source": [
    "#Se puede especificar parametros\n",
    "Tmax  =  25000.0   # Temperatura máxima (inicial) \n",
    "Tmin  =  2.5       # Temperatura máxima (final) \n",
    "tsp = TravellingSalesmanProblem(init_state, distance_matrix)\n",
    "tsp.Tmax\n",
    "tsp.Tmin\n",
    "tsp.set_schedule(tsp.auto(minutes=0.3))\n",
    "# dado que nuestro estado es solo una lista, el segmento (slice) es la forma más rápida de copiar\n",
    "tsp.copy_strategy = \"slice\"\n",
    "state, e = tsp.anneal()"
   ]
  },
  {
   "cell_type": "code",
   "execution_count": 47,
   "metadata": {},
   "outputs": [],
   "source": [
    "#Se puede cambiar la ciudad desde la que se desea iniciar el tour\n",
    "while state[0] != 'New York City':\n",
    "        state = state[1:] + state[:1]  # rotar NYC para empezar"
   ]
  },
  {
   "cell_type": "code",
   "execution_count": 46,
   "metadata": {},
   "outputs": [
    {
     "name": "stdout",
     "output_type": "stream",
     "text": [
      "\n",
      "6801 millas de la ruta:\n",
      "New York City ➞  Detroit ➞  Columbus ➞  Indianapolis ➞  Chicago ➞  San Francisco ➞  San Jose ➞  Los Angeles ➞  San Diego ➞  Phoenix ➞  San Antonio ➞  Austin ➞  Houston ➞  Fort Worth ➞  Dallas ➞  Memphis ➞  Jacksonville ➞  Charlotte ➞  Baltimore ➞  Philadelphia\n"
     ]
    }
   ],
   "source": [
    "print()\n",
    "print(\"%i millas de la ruta:\" % e)\n",
    "print(\" ➞  \".join(state))"
   ]
  },
  {
   "cell_type": "code",
   "execution_count": null,
   "metadata": {},
   "outputs": [],
   "source": []
  }
 ],
 "metadata": {
  "kernelspec": {
   "display_name": "Python 3",
   "language": "python",
   "name": "python3"
  },
  "language_info": {
   "codemirror_mode": {
    "name": "ipython",
    "version": 3
   },
   "file_extension": ".py",
   "mimetype": "text/x-python",
   "name": "python",
   "nbconvert_exporter": "python",
   "pygments_lexer": "ipython3",
   "version": "3.8.5"
  }
 },
 "nbformat": 4,
 "nbformat_minor": 4
}
